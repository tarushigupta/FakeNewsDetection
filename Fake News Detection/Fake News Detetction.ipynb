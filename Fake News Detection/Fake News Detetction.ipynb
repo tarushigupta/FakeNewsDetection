{
 "cells": [
  {
   "cell_type": "code",
   "execution_count": 31,
   "metadata": {},
   "outputs": [],
   "source": [
    "import pandas as pd\n",
    "import numpy as np\n",
    "import matplotlib.pyplot as plt\n",
    "import itertools\n",
    "from sklearn.linear_model import PassiveAggressiveClassifier\n",
    "from sklearn.metrics import accuracy_score, confusion_matrix , f1_score, precision_score, recall_score, classification_report"
   ]
  },
  {
   "cell_type": "code",
   "execution_count": 32,
   "metadata": {},
   "outputs": [],
   "source": [
    "df = pd.read_csv(r'news.csv', low_memory=False)\n",
    "df = df.iloc[:,0:4]"
   ]
  },
  {
   "cell_type": "code",
   "execution_count": 33,
   "metadata": {
    "scrolled": false
   },
   "outputs": [
    {
     "data": {
      "text/html": [
       "<div>\n",
       "<style scoped>\n",
       "    .dataframe tbody tr th:only-of-type {\n",
       "        vertical-align: middle;\n",
       "    }\n",
       "\n",
       "    .dataframe tbody tr th {\n",
       "        vertical-align: top;\n",
       "    }\n",
       "\n",
       "    .dataframe thead th {\n",
       "        text-align: right;\n",
       "    }\n",
       "</style>\n",
       "<table border=\"1\" class=\"dataframe\">\n",
       "  <thead>\n",
       "    <tr style=\"text-align: right;\">\n",
       "      <th></th>\n",
       "      <th>Unnamed: 0</th>\n",
       "      <th>title</th>\n",
       "      <th>text</th>\n",
       "      <th>label</th>\n",
       "    </tr>\n",
       "  </thead>\n",
       "  <tbody>\n",
       "    <tr>\n",
       "      <th>0</th>\n",
       "      <td>8476</td>\n",
       "      <td>You Can Smell Hillaryâ€™s Fear</td>\n",
       "      <td>Daniel Greenfield, a Shillman Journalism Fello...</td>\n",
       "      <td>FAKE</td>\n",
       "    </tr>\n",
       "    <tr>\n",
       "      <th>1</th>\n",
       "      <td>10294</td>\n",
       "      <td>Watch The Exact Moment Paul Ryan Committed Pol...</td>\n",
       "      <td>Google Pinterest Digg Linkedin Reddit Stumbleu...</td>\n",
       "      <td>FAKE</td>\n",
       "    </tr>\n",
       "    <tr>\n",
       "      <th>2</th>\n",
       "      <td>3608</td>\n",
       "      <td>Kerry to go to Paris in gesture of sympathy</td>\n",
       "      <td>U.S. Secretary of State John F. Kerry said Mon...</td>\n",
       "      <td>REAL</td>\n",
       "    </tr>\n",
       "    <tr>\n",
       "      <th>3</th>\n",
       "      <td>10142</td>\n",
       "      <td>Bernie supporters on Twitter erupt in anger ag...</td>\n",
       "      <td>” Kaydee King (@KaydeeKing) November 9, 2016 T...</td>\n",
       "      <td>FAKE</td>\n",
       "    </tr>\n",
       "    <tr>\n",
       "      <th>4</th>\n",
       "      <td>875</td>\n",
       "      <td>The Battle of New York: Why This Primary Matters</td>\n",
       "      <td>It's primary day in New York and front-runners...</td>\n",
       "      <td>REAL</td>\n",
       "    </tr>\n",
       "  </tbody>\n",
       "</table>\n",
       "</div>"
      ],
      "text/plain": [
       "  Unnamed: 0                                              title  \\\n",
       "0       8476                     You Can Smell Hillaryâ€™s Fear   \n",
       "1      10294  Watch The Exact Moment Paul Ryan Committed Pol...   \n",
       "2       3608        Kerry to go to Paris in gesture of sympathy   \n",
       "3      10142  Bernie supporters on Twitter erupt in anger ag...   \n",
       "4        875   The Battle of New York: Why This Primary Matters   \n",
       "\n",
       "                                                text label  \n",
       "0  Daniel Greenfield, a Shillman Journalism Fello...  FAKE  \n",
       "1  Google Pinterest Digg Linkedin Reddit Stumbleu...  FAKE  \n",
       "2  U.S. Secretary of State John F. Kerry said Mon...  REAL  \n",
       "3  ” Kaydee King (@KaydeeKing) November 9, 2016 T...  FAKE  \n",
       "4  It's primary day in New York and front-runners...  REAL  "
      ]
     },
     "execution_count": 33,
     "metadata": {},
     "output_type": "execute_result"
    }
   ],
   "source": [
    "df.head()"
   ]
  },
  {
   "cell_type": "code",
   "execution_count": 34,
   "metadata": {},
   "outputs": [
    {
     "data": {
      "text/plain": [
       "(7818, 4)"
      ]
     },
     "execution_count": 34,
     "metadata": {},
     "output_type": "execute_result"
    }
   ],
   "source": [
    "df.shape"
   ]
  },
  {
   "cell_type": "code",
   "execution_count": 35,
   "metadata": {
    "scrolled": true
   },
   "outputs": [
    {
     "data": {
      "text/plain": [
       "Unnamed: 0    True\n",
       "title         True\n",
       "text          True\n",
       "label         True\n",
       "dtype: bool"
      ]
     },
     "execution_count": 35,
     "metadata": {},
     "output_type": "execute_result"
    }
   ],
   "source": [
    "#checking for null values\n",
    "df.isnull().any()"
   ]
  },
  {
   "cell_type": "code",
   "execution_count": 36,
   "metadata": {
    "scrolled": true
   },
   "outputs": [
    {
     "data": {
      "text/plain": [
       "(6753, 4)"
      ]
     },
     "execution_count": 36,
     "metadata": {},
     "output_type": "execute_result"
    }
   ],
   "source": [
    "#dropping all columns with null values\n",
    "df = df.dropna()\n",
    "df.shape"
   ]
  },
  {
   "cell_type": "code",
   "execution_count": 37,
   "metadata": {
    "scrolled": false
   },
   "outputs": [
    {
     "data": {
      "text/plain": [
       "Unnamed: 0    False\n",
       "title         False\n",
       "text          False\n",
       "label         False\n",
       "dtype: bool"
      ]
     },
     "execution_count": 37,
     "metadata": {},
     "output_type": "execute_result"
    }
   ],
   "source": [
    "df.isna().any()"
   ]
  },
  {
   "cell_type": "code",
   "execution_count": 38,
   "metadata": {},
   "outputs": [
    {
     "data": {
      "text/plain": [
       "array(['FAKE', 'REAL', ' filled with fear and insecurity',\n",
       "       ' by criminal and congressional investigations',\n",
       "       ' however intimidating the process and long the lines. For Americans who may feel unmoved or unwilling to vote for Mrs. Clinton',\n",
       "       ' and who better to do it than an outsider beholden to neither political party? If only that reform possibility didnâ€™t arrive as a flawed personality who has few convictions and knows little about the world.â€\\x9d',\n",
       "       ' Hugh Naylor writes. And the impending assault represents an â€œintensified international effortâ€\\x9d to increase pressure on the extremist group as it loses control of territory in the countries.',\n",
       "       ' Wesley Lowery and Steven Rich)',\n",
       "       ' clap and whoop as [KrisAnne] Hall takes the stage in the ballroom of a suburban Minnesota hotel â€¦ Hall',\n",
       "       ' higher spending by the state and wide-scale efforts to lift the working poor. â€¦ It is on the ballot in three states: Californians are set to essentially make permanent an income tax surcharge on millionaires in order to fund education. Washington voters appear likely to raise their minimum wage statewide to $13.25 an hour â€¦ In Oregon',\n",
       "       ' sweeping his arm from this ancient Christian village toward the horizon. The Iraqi captain was searching for tunnels dug by Islamic State fighters. The officer stomped on the ground. â€˜Here. We found one',\n",
       "       ' locked in a tight contest that gives Republicans a chance to steal a Democratic crown jewel: the seat of Senate Minority Leader [Harry Reid]. A Heck victory would make the tenuous path for Republicans to hold the Senate majority easier to navigate. Democrats need four seats to capture the majority if [Clinton] â€¦ wins the White House. Yet despite those high stakes',\n",
       "       ' it doesnâ€™t feel much like November', ' look',\n",
       "       ' their challenges. They share with you their most intimate stories. So you connect with people in a different way. And you grow.',\n",
       "       ' how big this platform is', ' be by his side for many years',\n",
       "       ' which couldÂ’ve been there before. If I werenÂ’t even around doing this',\n",
       "       ' while they may be there', ' IÂ’ve been-a supporter.', ' Â“Well',\n",
       "       ' he can be a fighter. And I think this country', ' you know',\n",
       "       ' look at the job theyÂ’ve done. They havenÂ’t done the job. Now',\n",
       "       ' a two-day period and weÂ’re not going to have a two-year period where thereÂ’s nothing. It will be repealed and replaced. And weÂ’ll know. And itÂ’ll be great health care for much less money. So itÂ’ll be better health care',\n",
       "       ' the fortunate things for my father and our father is that he was able to step out of the company to run for commander-in-chief. And I think heÂ’s going to rely on us more than ever. And--',\n",
       "       ' strongly about. But not in a formal administrative capacity.',\n",
       "       'â€\\x9d by Tim Alberta and Eliana Johnson: â€œIn February',\n",
       "       ' is still cheering', ' Ben Plesser',\n",
       "       ' afternoon highs reach the mid-60s to near 70.â€\\x9d',\n",
       "       ' in New York. ',\n",
       "       ' to then want to systematically kill Jews wherever he could find them.â€\\x9d ',\n",
       "       ' in the archives. Sadly',\n",
       "       ' we welcome all who declare such intentions. ', ' for example',\n",
       "       ' and exchange information. In general',\n",
       "       ' in the media and in political debate. I think this was really a case of diverging interpretations of the results. ',\n",
       "       ' which I think the experts have all read',\n",
       "       ' and the resolution was finally adopted',\n",
       "       ' which said the law would take effect only after municipal elections in these areas. That once again postponed the lawâ€™s enforcement. I repeat',\n",
       "       ' a key component. But the Ukrainian president said that this was not possible and everything ended up in a dead end. In this situation',\n",
       "       ' but in order to get us out of the deadlock we were in',\n",
       "       ' essentially renouncing the lawâ€™s implementation whatever the case. We thus found ourselves back in the same crisis we had in Paris a year before. But I want to note the Federal Chancellorâ€™s role here. She found arguments to persuade everyone present that we could and should keep to the agreement we reached and said that it was not possible to change what weâ€™d already agreed on a year later',\n",
       "       ' we simply have no alternative. ', ' I agree',\n",
       "       ' the Russian Government said that it would consider re-joining the agreement if three conditions were met: firstly',\n",
       "       ' that these three conditions would form the basis of an initial negotiating position on the Russian part with the American president',\n",
       "       ' but we did not withdraw from the plutonium agreement',\n",
       "       ' the United States made a unilateral announcement that they would not dilute this weapons-grade plutonium but would store it in some beds and so forth. ',\n",
       "       ' including those on Syria. Perhaps we will be able to come back to this. We are ready',\n",
       "       ' points',\n",
       "       ' and the need for great powers to work together to construct a genuinely democratic multipolar Asia? ',\n",
       "       ' they are growing fast. With a sizeable part of its territory in Asia',\n",
       "       ' China', ' one peopleâ€\\x9d. Today', ' for the majority',\n",
       "       ' you came to Shanghai on other important business and our students missed the chance to meet at the university with you and ask their question',\n",
       "       ' where the Italian coastguard rescued refugees from Africa. What has Syria got to do with this? Africaâ€™s future and the worldâ€™s future are very serious issues. The same goes for relations in Asia',\n",
       "       ' there should be universally accepted common rules that guarantee sovereignty and peoplesâ€™ interests. ',\n",
       "       ' and the Asian countries',\n",
       "       ' but we will always keep working in this direction. ',\n",
       "       ' there are two businesses there. The second is engaged in selling the products',\n",
       "       ' because you are the only person this question should really be addressed to. ',\n",
       "       ' but it seems a 7-day ceasefire was proposed. You expressed doubts and said that it would not be possible to separate the radicals from the moderates in such a short time and that this task would likely prove impossible. You were given the answer then that if we failed in this task',\n",
       "       ' and second', ' and who the terrorists were',\n",
       "       ' did indeed propose separating these different forces once again. But he insisted that we must first declare a D-day',\n",
       "       ' I decided to agree with the American proposal at the talks. They were persistent and I decided to accept a compromise',\n",
       "       ' American aircraft carried out a strike against Syrian troops',\n",
       "       ' soon to be 10 days. But where is the effort to separate the terrorists from the moderates? You have to realise that if we do not meet our obligations we will never succeed in this fight against terrorism. ',\n",
       "       ' but there is a limit to everything and we might have to reply at some point. ',\n",
       "       ' the people or any practice in implementing policing missions. ',\n",
       "       ' we do not describe this initiative as â€œa policing missionâ€\\x9d but as an opportunity for those responsible for the elections and security during the campaign to carry weapons. Those who objected to this initiative pointed out that it could provoke others to use weapons against the armed people. They believe that the power of OSCE observers is not in weapons but in the fact that they represent a respectable international organisation',\n",
       "       ' I was the only one to do so. The situation is strange; it is the only issue on which I agree with Mr Poroshenko. I have spoken about this more than once; there is nothing new here. Ultimately',\n",
       "       ' Mr President', ' and the Western world', ' namely',\n",
       "       ' which would include the Soviet Union and former Warsaw Pact countries',\n",
       "       ' while others did not have the political will to act on these absolutely correct ideas of this wise and experienced German politician. ',\n",
       "       ' diplomatic and regulatory support for these changes will follow. The world will be a more balanced and multipolar place. ',\n",
       "       ' in particular Russia and Germany',\n",
       "       ' and I was myself also involved in that. So I think that one lesson that we could perhaps learn',\n",
       "       ' but as far as I know the cost of gas for end users â€“ industrial enterprises â€“ has already topped $300 per thousand cubic metres. We sell gas for $180 but they do not want to buy it from us yet. I have reason to believe that the middlemen in these reverse deals are close to certain executives in Ukraineâ€™s fuel and energy complex. Good luck to them; let them do this but',\n",
       "       ' it is important to understand Russiaâ€™s general approach to this treaty. Does Russia see any value in this treaty',\n",
       "       ' the Soviet Union was simply left without this type of weapons. ',\n",
       "       ' whereas none of the countries sharing borders with the United States',\n",
       "       ' and then separated states from Serbia? In Kosovo',\n",
       "       ' in strict compliance with the UN Charter. We did almost the same you did in Kosovo',\n",
       "       ' parliament ratified the decision',\n",
       "       ' and I am prepared to say it again. Yugoslavia',\n",
       "       ' Duncan explained â€œBaiame came from a place that we call the Morning Star within the Mirrabooka. Mira means stars and booka means river. That is the Milky Way that flows across the North Star. â€\\x9d43 Baiame',\n",
       "       ' now furthest right. ',\n",
       "       ' who appear at a personâ€™s side at their birth and decide upon their future. ',\n",
       "       ' and MÃ\\xadmisbrunnr (MÃ\\xadmirâ€™s well)',\n",
       "       ' never to produce anything again of any consequence for the general public',\n",
       "       ' to take over control of the world.â€\\x9d 51 ',\n",
       "       ' they are like points in a wave that show up as a particle. Just as surely they are guided only by Heisenbergâ€™s Uncertainty Principleâ€¦ ',\n",
       "       ' which lie on New South Wales Main Western railway line. The City of Blue Mountains has dubbed itself â€˜The City within a World Heritage National Park.â€™ It has Sister City Relationships with Sanda City',\n",
       "       ' the priestly tribe who are the keepers of the DinÃ©â€™s most profound secrets. ',\n",
       "       ' is the most sacred place in the Four Corners. In fact it is the most sacred place in the worldâ€¦ ',\n",
       "       ' especially in ultraviolet and infrared wavelengthsâ€¦ ',\n",
       "       ' Navajo Medicine Men',\n",
       "       ' 21 Oct. 2015. Web. 3 Aug. 2016. http://www.nytimes.com/2015/10/22/science/quantum-theory-experiment-said-to-prove-spooky-interactions.html?_r=0 ',\n",
       "       ' and programs fellating them dailyâ€¦â€¦. James ',\n",
       "       ' difficult to know who to trust on the Internet these days. We all seek out the stories and opinions that support our view on the world. ButIDigress ',\n",
       "       ' â€œWhat Arab cannot do his math and understand that immigration at the rate of 60',\n",
       "       ' â€œWe must see the situation for what it is. On the security front',\n",
       "       ' God promised it to us', ' too', '1917',\n",
       "       ' or the rights and political status enjoyed by Jews in any other country. ',\n",
       "       ' which had been reiterated by Lord Rothschild just a few months prior',\n",
       "       ' they would do their best to rally Jewish sentiment and support throughout the world to the Allied cause.â€\\x9d [34] ',\n",
       "       ' the acting chairman of the Zionist Commission . . . .â€\\x9d [37] ',\n",
       "       ' been bartered about from Turkish sovereignty to Jewish sovereignty.â€\\x9d [38] ',\n",
       "       ' Western governments promised the people of the region their independence. In January 1918',\n",
       "       ' and the establishment of National Governments and administrations deriving their authority from the initiative and free choice of the indigenous populations.â€\\x9d [40] ',\n",
       "       ' but dismissed it as a matter of no concern: ',\n",
       "       ' is rooted in age-long tradition',\n",
       "       ' an eminent American Zionist. From these and other documents and records it is clear that the Zionist project had already in those early days assumed something like the shape of the Mandate as we know it. [43] ',\n",
       "       ' charging the British with enacting policies to â€œsecure the establishment of the Jewish national homeâ€\\x9dâ€”including the facilitation of Jewish immigrationâ€”and requiring the British administration to consult and cooperate with the Jewish Agency toward that end. ',\n",
       "       '1920',\n",
       "       ' it shall be deemed to be a matter of principle that Jewish labour shall be employed . . . . [45] ',\n",
       "       ' â€œActually the result of the purchase of land in Palestine by the Jewish National Fund has been that the land has been extraterritorialised. It ceases to be land from which the Arab can gain any advantage either now or at any time in the future. Not only can he never hope to lease or to cultivate it',\n",
       "       ' firstly',\n",
       "       ' they combined with the development of the land for their own settlers similar development for the Arabs who previously occupied the land. All the cases which are now quoted by the Jewish authorities to establish the advantageous effect of Jewish colonization on the Arabs of the neighbourhood',\n",
       "       ' which dominates that policy',\n",
       "       ' but landholders often saw no need to do so unless they were interested in selling. Moreover',\n",
       "       ' including the territory now known as Palestine',\n",
       "       ' the rest having been â€œacquired from the owners of large estates most of whom live outside Palestineâ€\\x9d. [53] In the Vale of Esdraelon',\n",
       "       ' including Jaffa',\n",
       "       ' in keeping with the prejudice inherent in the Mandate',\n",
       "       ' neither the General Assembly nor the Security Council had any authority to partition Palestine against the will of the majority of its inhabitants. ',\n",
       "       ' 1948. [57] ',\n",
       "       ' is that they declared their intent to take up arms to prevent the Zionists from unilaterally declaring for themselves sovereignty over lands they had no rights to and politically disenfranchising the majority population of Palestine. ',\n",
       "       ' the fact that most of the violence occurred within this area is completely irrelevant and tells us nothing about which side was guilty of aggression. After all',\n",
       "       ' Haganah policy was purely defensiveâ€\\x9d',\n",
       "       ' and then depart. [61] ',\n",
       "       ' the Haganah attacked the village of Khisas at night',\n",
       "       ' Tel Avivâ€“Jaffa',\n",
       "       ' the Jewish settlers had built their houses higher up the mountain. Thus',\n",
       "       ' Plan D marked',\n",
       "       ' especially those population centers which are difficult to control continuously. ',\n",
       "       ' in effect', ' by the time the war ended',\n",
       "       ' between the beginning of December 1947 and the end of March 1948',\n",
       "       ' the orders were for the Arabs â€œto be transferred to the Arab centers of those cities',\n",
       "       '1947',\n",
       "       ' including some women and children.â€\\x9d Ben-Gurion defended the attack by saying it was â€œimpossibleâ€\\x9d to â€œdiscriminateâ€\\x9d under the circumstances. â€œWeâ€™re at war. . . . There is an injustice in this',\n",
       "       ' tens of thousands of Haifaâ€™s seventy thousand Arabs had already fled. [78] The Haganah had been planning an operation in Haifa since mid-month',\n",
       "       ' are remarkably like those of Nazi Germany.â€\\x9d [81] An elderly man and a girl',\n",
       "       ' after taking some time to consult before reconvening',\n",
       "       ' he notes that other factors included psychological trauma from the violenceâ€”especially the Haganahâ€™s mortaring of the lower cityâ€”and despair at the thought of living now as a minority under a people who had just inflicted that collective punishment upon them. Furthermore',\n",
       "       ' a village on the western edge of Jerusalem', '500',\n",
       "       ' while members of the Stern Gang stopped a bus nearby and began firing into it randomly. This was the first Stern Gang operation in rural Palestine; prior to the attack',\n",
       "       ' but once it had occurred it was incorporated into the plan. In a pattern that would repeat itself',\n",
       "       ' through Mahaneh Yehuda',\n",
       "       ' Arab villages were henceforward to be leveled to prevent their reinvestment by Arab forces; the implication was that their inhabitants were to be expelled and prevented from returning.â€\\x9d [87] The Haganah â€œembarked on a campaign of clearing areas of Arab inhabitants and militia forces and conquering and leveling villagesâ€\\x9d. [88] Plan D implemented a â€œnew policy',\n",
       "       ' Morris notes). In charge of these operations was the commander of the Palmach',\n",
       "       ' according to Arab sources cited by a Haganah intelligence document',\n",
       "       ' â€œas friends', ' campaign',\n",
       "       ' in his contribution to the debate',\n",
       "       ' and once war broke out there was a clear tacit understanding between the political leadership and the military commanders toward that end. As Morris himself has pointed out',\n",
       "       ' the expulsions thereafter received their explicit approval. Commanders like Yigal Allon understood their orders very well: it was â€œimperativeâ€\\x9d to â€œcleanseâ€\\x9d their areas of operation of their Arab inhabitants. ',\n",
       "       ' but that it was justified; itâ€™s not that Palestine wasnâ€™t actually ethnically cleansedâ€”clearly',\n",
       "       ' just as immoral then as they would be today. ',\n",
       "       ' are both categorically false . He bases his arguments that the Jews were acting defensively on the grounds that the Arab states had threatened â€œto attack the Jewish stateâ€\\x9d and then carried out that threat by â€œinvadingâ€\\x9d Israel. But given the illegitimacy of the May 14 declaration and the inherent prejudice of the Zionist project toward the majority Arab population',\n",
       "       ' but the leadershipâ€™s intent was clear. Indeed',\n",
       "       ' whose plan left more than 400', ' he argues',\n",
       "       ' Israel Galili â€œordered all the Haganah brigades not to uproot Arabs from the territory of the designated Jewish state.â€\\x9d In 1948 ',\n",
       "       ' there they didnâ€™t',\n",
       "       ' he opines that this policy was â€œlogical and justâ€\\x9d. We see once again',\n",
       "       '000 Palestinians. Therefore it was necessary to uproot them.â€\\x9d ',\n",
       "       ' by Morrisâ€™s own account',\n",
       "       ' he has contributed greatly to the literature on the subject',\n",
       "       ' while the term â€œdefies easy definitionâ€\\x9d', ' premeditated',\n",
       "       ' the ethnic cleansing of Palestine must today be recognized as an uncontroversial historical fact. That this ethnic cleansing occurred is indeed today very well documentedâ€”including in Benny Morrisâ€™s own important contributions to the literature on the subject. ',\n",
       "       ' and The Rejection of Palestinian Self-Determination: The Struggle for Palestine and the Roots of the Israeli-Arab Conflict (2009). Find him on the web at JeremyRHammond.com .\"',\n",
       "       ' a response to yet another Sierra Club lawsuit. And the more dirty plants get shut down',\n",
       "       ' but there is a nice little park where kids play at the playground and adults fish in the Detroit River. Unfortunately',\n",
       "       ' two with asthma. â€œThey figure they can get away with dumping on us.â€\\x9d',\n",
       "       ' drawing an unusual coalition of local whites',\n",
       "       ' a sharecropperâ€™s daughter who is now an organizer for Beyond Coal.',\n",
       "       ' including an Indian-American medical student',\n",
       "       'â€\\x9d but he decided not to run',\n",
       "       ' Beyond Coal has more than 100 legal cases pending over power supply. Meanwhile',\n",
       "       ' issuing relatively weak restrictions on coal ash',\n",
       "       ' the RNC chairman-turned-coal advocate. â€œThat will play in 2016. Obviously',\n",
       "       ' but some of them suggested 2050 could be realistic. In any case',\n",
       "       ' and is shuttering all four plants in smog-shrouded Beijing. The trends killing coal in Americaâ€”cheap gas',\n",
       "       ' because if King Coal seems like a rich and powerful enemy',\n",
       "       ' of peace and justice\"\" for a world racked by violence and unrest.',\n",
       "       ' the death penalty',\n",
       "       ' Francis also said he\\'s concerned about \"\"the family',\n",
       "       ' he warned Thursday of rising \"\"fundamentalism\"\" of all kinds.',\n",
       "       ' but rather view them as persons', ' and waved.',\n",
       "       ' Cabinet officials', ' righting wrongs',\n",
       "       ' the answer ... is simply for money', ' both Catholics.',\n",
       "       ' to the Capitol',\n",
       "       ' his visit may prove little more than a brief respite from their partisan warfare',\n",
       "       ' said he received a blessing from the pope Thursday. The blessing reportedly was given during the event at the Catholic Charities of Washington.',\n",
       "       ' gives me strength to defeat this disease',\n",
       "       \" â€œEveryone wants her to apologize. And she should.â€\\x9d â€œApologies are like her Achilles' heel\",\n",
       "       ' more than ever', ' societies define deviancy down',\n",
       "       ' â€˜Youâ€™re fired!â€™Â\\xa0But when the Russians go home',\n",
       "       ' which have large shares of noncollege whites. Mrs. Clinton',\n",
       "       ' perhaps the most devastating one of all: Have the Democrats replaced the Republicans as the party of the social',\n",
       "       ' he rips at the last remaining threads of decency holding this nation together. His opponent is the devil',\n",
       "       ' Ohio.',\n",
       "       ' it may feel pleasantly cool under mostly sunny skies. Perhaps a periodic',\n",
       "       ' move forward.\"\"', ' the issue has no traction. Do you accept',\n",
       "       ' who began fundraising for the group earlier this month',\n",
       "       ' Pat McCrory',\n",
       "       \" he wouldn't limit his future prospects. â€˜Never say never\",\n",
       "       ' thousands of people left behind their ruined homes and took refuge here. They found new jobs and rebuilt their homes. Slowly',\n",
       "       ' right',\n",
       "       ' is purposefully designed to reflect that struggle. (Krissah Thompson has more.)',\n",
       "       ' and commerce', ' beans',\n",
       "       ' and other precious metals. But there in lies the crutch. Energy. For mining and harvesting',\n",
       "       ' I.e. Real Estate. Commodities and Industry',\n",
       "       ' they will be better able to cope with the difficulties at hand and work towards regaining their financial footing',\n",
       "       ' etc.', ' and',\n",
       "       ' will pay about ~$1.4k per month over 25 years @ 7% pa. Were the borrower asked to repay the entire sum TODAY does that mean the borrower is insolvent? No. The borrower has 25 years of income',\n",
       "       ' call it what you want) 3. The debt national debt vs.currency in circulation/treasuries/etc everything is connected/ the amount of currency + fed % rates moderate inflation/ but at the end it doesnâ€™t really matter/ money is created on the computer screens now',\n",
       "       ' 200 million microwave ovens', ' consumption',\n",
       "       ' but itâ€™s not the end of the world. jos boersema ',\n",
       "       ' police & keep righteous. ',\n",
       "       ' and taxes payed in it. Now the money will work as money in exchange. Then a central gov owned bank as the infrastructural backbone',\n",
       "       ' they can say â€“ we want our money. And guess what? We canâ€™t pay it. You know HOW we can pay it back though? Obviously not with our moneyâ€¦. (itâ€™s worth nothing) We donâ€™t have enough gold. But we do have real estateâ€¦. Yep',\n",
       "       ' the legal limit in the UK is 666 fake credit bubble pounds to every actual pound on deposit. At least one bank made it up to 66 to 1 in 2008.) Big M ',\n",
       "       ' start their own state banks', ' you will never get ahead. ',\n",
       "       ' etc. That money has been stolen and is gone. ',\n",
       "       ' imagine if you never even had the $100 in the first place but your brother had given you an IOU for it â€“ even though he himself was broke! Thatâ€™s how the Federal Reserve Banking System works. Its a simple con job on trusting Americans. And it has destroyed the USA. ',\n",
       "       ' and make the US military the official enforcement arm of the United Nations (that is what Elites in control of the UN have wanted to protect â€œtheirâ€\\x9d wealth',\n",
       "       ' et al for further adding to the debt by their socialist system of entitlement PBS ',\n",
       "       ' cut all foreign aidâ€¦ daydreaming. What a bunch of crocs we have in Congress. Go Green',\n",
       "       ' but the original loan that was taken devalues the money we already have. This means that not only are bankruptcies inevitable',\n",
       "       ' another would provide a service like a roof repair or something. You bargain and come to a mutual understanding of your product/service value',\n",
       "       ' and alot of people. Our problems are big',\n",
       "       ' and dues. Foreign gold or silver coins are not legal tender for debts. (31 USC Sub IV Ch 51 Sub 1 Sec 5103) ',\n",
       "       ' investigate the Williston Basin', ' tax it. Problem solved. ',\n",
       "       ' feathers whatever is simply bizarre. Animals must think weâ€™re nuts and if life exists outside of earth they must think weâ€™re nuts as well. ',\n",
       "       ' the true value',\n",
       "       ' governments living within their means equates to less interest income for the bankersâ€¦ ',\n",
       "       '000 years. All fiat currencies',\n",
       "       '133.5 (MT; US gold reserves) x 1000 kg x 32',\n",
       "       ' we are in the same boat',\n",
       "       ' and coins were used for many years. Paper bills were created to facilitate large transactions',\n",
       "       ' not because there was not enough money. Simply put',\n",
       "       '000â€¦ well',\n",
       "       ' their balance sheets are made larger on both the asset and liability side (deposits or money) of their books and the macro money supply is expanded. ',\n",
       "       ' the loan loss means they have less capital and will have trouble maintaining the 8% capital requirement if they continue to make more loans',\n",
       "       ' all the money created via the fractional monetary system has a debit and a creditâ€¦ they equal. However',\n",
       "       ' but when the macro savings rate is high enough to result in a contraction of economic activity',\n",
       "       ' send the spineless politicians as payment. Terry Numbnut ',\n",
       "       ' by virtue of comparing existing debt (which is repaid over time) with only one yearâ€™s GDP. The issue is that the internet is overflowing with â€˜expertsâ€™ who for the most part gain their knowledge from web-sites and unattributed statements from others who are equally ignorant. The statements then get parroted by others and become conventional â€˜wisdomâ€™. Just because experts disagree doesnâ€™t mean every Tom',\n",
       "       ' efficient',\n",
       "       ' which is what the entire debt system is based on. ', ' sorry',\n",
       "       ' youâ€™ll be a part of rebuilding the country',\n",
       "       ' they will probably remotely militarily destroy what little remains of our economy',\n",
       "       ' things would be a lot easier. If you understand there is no real need for money',\n",
       "       ' he thinks he has it figured out',\n",
       "       ' does not seek Him. All his thoughts are',\n",
       "       ' but not the nation. He is a holy Elohim. He gives nations the leaders it deserves. I am Canadian. Look what He gave us. Bob332 ',\n",
       "       ' our INTENT is not to prosecute. A big shout out for -FU America',\n",
       "       ' who will call the shots. World War 3 is a real distinct possibility with this charlatan in the Oval Office. Would anybody care to wager on another false flag event similar if not worse to 9-11 to further an agenda? This time',\n",
       "       ' or something in between', ' Hillary has not confessed',\n",
       "       ' and not one shred of gratitude nor remorse from those who took credit they were unable to pay. Oz Steamer ',\n",
       "       ' anyone who thinks the Feminists want â€œequalityâ€\\x9d only has to look at this decision. If Hillary was a man',\n",
       "       ' just ask Larry Nichols. JC Teecher ',\n",
       "       ' escalation of the Vietnam War and the drug saturated counter cultureâ€¦the proverbial Pandoraâ€™s Box and the beginning of the end of the greatest nation on earth. Preacher62 ',\n",
       "       ' under pressure from Clinton',\n",
       "       ' except for a minor break of 12 years. The Republicans will never again control the Oval office or the senate or the house. Thank you Comey',\n",
       "       ' but against the rulers', ' marrying and giving in marriage',\n",
       "       ' before he was imprisoned and beaten. He will be speaking scriptures',\n",
       "       ' and familiar with pain. Like one from whom people hide their faces he was despised',\n",
       "       ' by Michael the Archangel? Preacher62 ', ' and when he comes',\n",
       "       ' he will want to be worshipped. JC Teecher ', ' will be',\n",
       "       ' weâ€™ve also been blessed because of a promise He made to Abraham (â€œthose who bless you',\n",
       "       ' but the Lord responded that He is free to use whoever He chooses as His â€œwar club.â€\\x9d ',\n",
       "       ' he describes terrible times in the last days and a very wicked generation. df NJ ',\n",
       "       ' not from people.â€\\x9d sistersoldier ',\n",
       "       ' just reply and Iâ€™ll post it for you',\n",
       "       ' thanks to the Supreme Court that refused to call appeal to Hinduism an appeal to religion. ',\n",
       "       ' Adivasis',\n",
       "       ' and certainly because the Congress itself was corrupt and operated the state institutions as its own mafia',\n",
       "       ' had been gunned down by his own associates as he was about to reveal details of the vast network of crime and terrorism against Muslims organised by the RSS. Today Narendra Modiâ€™s Bharatya Janata Party (BJP) rules MP and half of Indiaâ€™s states. The means to electoral victory is appeal to Hindu chauvinism. The modus operandus of the Sangh Parivar police or members of other institutions of state is to appeal to Hindu voters by assassinating Muslims. The Rashtriya Swayamsevak Sangha (RSS) and other Sangh Parivar gangs use ideology culled from their leadersâ€™ writings to justify the murders. These gangs are indistinguishable from business fraternities. Often when petty criminals are killed the RSS claim it was a communal attack but in reality the murder is due to struggles between RSS business/mafia gangs. When Muslims are suspected it is invariably a false flag operation by Sangh Parivar to unleash Sangh Parivar controlled state agencies on innocent Muslims for no reason other than inflicting pain and establishing Hindu supremacy. RSS is also involved with the Vyapam scam in MP',\n",
       "       ' is under the control of the central BJP government and Narendra Modi the Prime Minister',\n",
       "       ' Aryan invaders who want to oppress the indigenous black-skinned Indians; they are the educated elites and their croneys from all castes and classes regard the workers and peasants simply as vote banks and as the labour resource to be used and thrown. BJP',\n",
       "       ' CPI(M) and CPI (ML) and CPI have to be concentrated there. ',\n",
       "       ' who are part of the invader Aryan dispensation',\n",
       "       ' became the first political entity to voluntarily join the legal debate in the apex court over the contentious issue. Yechury also took the opportunity to target the RSS. â€œWith the communal and fascistic RSS-led combineâ€™s assuming power at the centre',\n",
       "       ' who once warned that giving the DPP influence would weaken them',\n",
       "       ' went to Stockholm to meet with fellow Scandinavian social democrats. There she gave a speech that rattled her colleagues. â€œWe social democrats must accept that there is a clash',\n",
       "       ' Denmark passed what became known as the â€œ jewellery law â€\\x9d',\n",
       "       ' it is often forgotten that Danish Jews paid fishermen huge sums to ferry them across to Sweden. Melchiorâ€™s family paid the equivalent of â€œalmost a yearâ€™s rent of a six-room flatâ€\\x9d just for his own passage. â€œDenmark is not a poor country',\n",
       "       ' some of the trust sustaining it has broken down. There has been abuse of the system by immigrants',\n",
       "       ' the welfare society cannot hold together', 'â€\\x9d Soei told me',\n",
       "       ' is that there is no political incentive to integrate asylum seekers into the job market. â€œIt doesnâ€™t have consequences for the politicians . . . because they donâ€™t have the right to vote.â€\\x9d Either way',\n",
       "       ' however',\n",
       "       ' he was convinced that the battle has in some ways already been wonâ€“regardless of the outcome of next yearâ€™s elections. â€œThe PVV has shifted the whole political discussion to the right. The Labour party is saying almost exactly the same thing Wilders said five years ago',\n",
       "       ' economic instability',\n",
       "       ' activists from a group named Retake Calais',\n",
       "       'â€\\x9d says Samuel. After they start to open businesses and bring family members',\n",
       "       ' on a blustery morning in June outside the terminal',\n",
       "       ' fumed. And it was Sarkozy',\n",
       "       ' â€˜I want to run for mayor. I want to get revenge.â€™ Thatâ€™s who he is',\n",
       "       ' a former city councilman. (Antonio Olivo)',\n",
       "       ' and recommended that anyone who needed emergency assistance text should use a landline or a cellphone with service from another provider.â€\\x9d Officials said the glitch was caused by â€œan extensive commercial power outage and fire.â€\\x9d (Justin Wm. Moyer and Victoria St. Martin)',\n",
       "       ' and ONLY a major turnover in 2014 will do it. ',\n",
       "       ' I was brought to the US when I was 13y/o and since then I have always dreamed of leaving this place. Trying to pick a career was very difficult because I also didnâ€™t want to pay 100k on a degree here to move to another country and make significantly less',\n",
       "       ' I really donâ€™t have anyone to welcome me in another country',\n",
       "       ' that we really are NOT anymore the nice guys we used to be and they have a reason to dislike us often. MeMadMax ',\n",
       "       ' maybe itâ€™s because I have been exposed to other countries',\n",
       "       ' e.g.', ' immigrated to England in the 19th century',\n",
       "       ' but I see this as a giant gaping hole in their strategies. As a temporary solution OK',\n",
       "       ' GOD I hate what we have become)',\n",
       "       ' that you will mabey need another source of income. If you move out to another country',\n",
       "       ' but the option will get harder as time progresses. Another factor to add into the calculus. frankensteingovernment ',\n",
       "       ' the world does not really care about the USâ€¦ Neither like nor dislike',\n",
       "       ' and mortgage.â€\\x9d Guess thatâ€™s whatâ€™s going on here. ',\n",
       "       ' Brighton and the small village of Parc in France (where family legend has it we got our name from Charlemagne himself). But my family and I have no choice but to stay put. ',\n",
       "       ' but i earn a good income and that has allowed me to travel places. ',\n",
       "       ' Japanese',\n",
       "       ' learn Spanish! I have a feeling itâ€™s going to be needed in the next few decades. I try to do as much traveling as I can. I am not able to do it like I would',\n",
       "       ' and always on the coast until just recently when I had my first land-locked experience in Indiana',\n",
       "       ' slaves. Mudpie ',\n",
       "       ' often times bad experiences with a few from that race. Most people do not generalize though and see people as individuals. Sounds like you dont',\n",
       "       ' and if they left and brought the jobs back home',\n",
       "       ' you have the best countries for white people to live in future. For non-Caucasians',\n",
       "       ' so many do it. As the encroaching darkness of Fascism spreads throughout this Country. I will continue to hold up my small light in the darkness. And if one day they come and snuff out that light',\n",
       "       ' the people in power will use that as an opportunity to go all in. Many of us will be imprisoned (or just disappear)',\n",
       "       ' if I have too much authority at my company I have to report various aspects of the company to the IRS. The report has to be made even if it breaks the law of country the company is based in. It is becomning inpossible to open or maintain a forgien bank account in many countries if one is a US citizen as the banks donâ€™t want to deal with the IRS and the penalties. US citizenship simple isnâ€™t worth the cost to me. Mudpie ',\n",
       "       ' it requires another country willing to take you for either your money or your skills. It is difficult and time consuming. People who have done it struggle usually and some come back because they cannot bear not being â€œnearâ€\\x9d family. Even with Skype it is hard to remain abroad without huge commitment. Far more people are trying to get into the US. Many are losers such as from Mexico but there are many',\n",
       "       ' disease etc. even possible nuclear? Once things settle down to a reasonable level people will reconstitute themselves and their living environments â€“ It will be like the 1850â€™s. Where would you rather be at this time â€“ I want to be in America where there is a lot of natural resources. Belize â€“ really â€“ the coconuts will run out soon! David Kessel ',\n",
       "       ' they just may not want to hire you. The exception is maybe teaching English for a pittance. Ralfine ',\n",
       "       ' etc. Then', ' less than 5% unemployment', ' the NY one',\n",
       "       ' I am not rich. Wherever you think is viable',\n",
       "       '000 or looking at it another way 99.99964% are staying. How many of the 1',\n",
       "       ' Philippines',\n",
       "       ' itâ€™s better. I seriously thought about doing it. Richard ',\n",
       "       ' sorry drought??? DROUGHT?? Oh please. Give me a break! What Will You Do For Medical Care? Pay less than a tenth of what you pay in the States. Next question? Oh sorry',\n",
       "       ' you are very lucky. What Freedoms and Liberties Will You Lose By Moving? Yes',\n",
       "       ' wherever they live. ',\n",
       "       ' unless someone takes away their money and job',\n",
       "       ' there is much to consider. I know some American expatriates who really enjoy living overseas and have no desire to return to the BRA',\n",
       "       ' and smart people will heed their warnings. ',\n",
       "       ' the life expectancy has dropped 5 years for women and 3 years for men. The Great Depression has been where I live for years. You have everybody eeking along on social security or disability. The food is poisoning them. The chemtrail spread over their head is poisoning them. For them',\n",
       "       ' where the only jobs available are in lowly paid domestic services.â€\\x9dâ€”Dr. Paul Craig Roberts ',\n",
       "       ' so I guess I am good to go. Concerned Boy ', ' South Africa',\n",
       "       ' youth unemployment and crimes committed by youth and expensive housing is making Toronto a future Chicago where there is a few haves and lots of have-nots who canâ€™t get a chance to get out of poverty legally. ArigatouGozaimas ',\n",
       "       ' Australia). ((Socialism tends to do better when there is money in the ground. Think Norway',\n",
       "       ' they are third world. The US is becoming third world also but at least we have a ways to go yet before we are totally on the skids. Mexico would probably be my country of choice as I always felt kind of at home there',\n",
       "       ' or naturalization or by jus sanguinis â€“ inherited through ancestors/parents',\n",
       "       ' open air markets full of fresh produce REAL cheese',\n",
       "       ' whose language I speak',\n",
       "       ' I have found nothing other than often powerful statements of commitment to our nation',\n",
       "       ' and the city is unfriendly. The person is moving somewhere in the Atlantic provinces with his/her life savings and thinking of setting up a small business. One bad part of a country has a good part of the country. ',\n",
       "       ' along with â€œgeometryâ€\\x9d is what the â€œGâ€\\x9d in our symbol represents). Many',\n",
       "       ' Afghanistan and Iraq. I do not think that we have the luxury of time. Time is not on our side. Letâ€™s pull together before it is too late',\n",
       "       ' no RIAA(pirated DVDs sold almost everywhere; even cops buy them)',\n",
       "       ' low crim rate',\n",
       "       ' it is in permanent decline. Thank you liberals.[sarc] Alex Macintyre Gore ',\n",
       "       ' the way we talkâ€¦..lol Venci ',\n",
       "       ' e.t.c â€¦ any ideas on your end? sherpeace ',\n",
       "       ' and many expats are already there and many doctors there speak English and are American-trained. When the circumstances warrant',\n",
       "       ' too. However',\n",
       "       ' not any more. Whether it is 1 month or 50 years from now',\n",
       "       ' and invest there. And donâ€™t expect the same infrastructure that youâ€™re used to. ',\n",
       "       ' donâ€™t be surprised when they are watching your every move(youâ€™re an asset after all in their eyes). Iâ€™ll bet the entitled to my entitlement generation is not movingâ€“well at least until the government has no money left to spend on the massive bureacracy itâ€™s created. Bill ',\n",
       "       ' nice clothes etc. Best to travel to Miami and buy and return. ',\n",
       "       ' send my children to school',\n",
       "       ' it is only to pretect the money and those who the government defines as perfect. There is no such thing as freedom our god given human rights have been taken hundreds of years ago do to a cleverly disguised form of totalitarianism. Alika Nganuma Toshihiko Cripe ',\n",
       "       ' many countries LOVE americans and will hire you quicker than their own fellow native people',\n",
       "       '000 per offence. And THAT is why there is a huge increase in Americans giving up there citizenship. And the US response to this phenomenon? Increase the basic consular fee from $350 to $2450',\n",
       "       ' and Roman Catholicismi is the prevalent religion. My wifwe and I are Catholics. I am fluent in Spanish. I have lived in Colombia for a cou8ple of years. I seriously doubt that we will suffer from culture shock. You can get most of what you want in Belize if you kinow where to look. And medical care is available in both Guatemala and Mexico',\n",
       "       ' I canâ€™t live in a country that looks the other way when a candidate is a sexist',\n",
       "       ' as he maps out the Deep Web for me on a whiteboard (we agreed I wouldnâ€™t publish his last name). A presentation on the hidden recesses of the Web follows. â€œThe Deep Web',\n",
       "       ' six of them New York Times best-sellers',\n",
       "       ' fact-based research because most of what theyâ€™re inundated with is garbage. â€œThe modern economics of the newsroom donâ€™t support big investigative reporting staffs',\n",
       "       ' pivot right.â€\\x9d It means that â€œweaponizingâ€\\x9d a story onto the front page of the New York Times (â€œthe Leftâ€\\x9d) is infinitely more valuable than publishing it on Breitbart.com. â€œWe donâ€™t look at the mainstream media as enemies because we donâ€™t want our work to be trapped in the conservative ecosystem',\n",
       "       'â€\\x9d says Bannon', ' through the foundation',\n",
       "       ' including a focus on how the donors highlighted in Clinton Cash violated many of the principles liberals hold dear: â€œYou look at what theyâ€™ve done in the Colombian rain forest',\n",
       "       ' and heâ€™d just start losing his marbles',\n",
       "       ' Bill Cosbyâ€™s serial predations had just exploded into the news after laying dormant for many years. Bannon was certain this signaled trouble for Bill Clinton',\n",
       "       'â€\\x9d he says. â€œItâ€™s privately owned.â€\\x9d Bannon wouldnâ€™t comment either. However',\n",
       "       'â€\\x9d only rather than foment revolution among the proletariat',\n",
       "       ' the vehicle for achieving this is clear. Editors and reporters at prominent magazines and newspapers',\n",
       "       ' and just give them the stuff',\n",
       "       ' and a face that conjured up thoughts of unspeakable Congo secrets and tom-tom poundings under an eerie moon. The body must have looked even worse in life â€“ but the world holds many ugly things.â€\\x9d The Stonehenge of Australia ',\n",
       "       ' came across an artificially constructed mound that he described as â€œthe Stonehenge of Australia.â€\\x9d 65 He claimed that â€œthe mound is one of the oldest; I should say the oldest',\n",
       "       ' â€œhieroglyphs',\n",
       "       ' from another world.â€\\x9d71 Gosford Glyphs (Ref.: Herschelâ€™s The Hidden Records) ',\n",
       "       ' a Black Hole and exchanges places with the Sun. That is what the dagger symbolizes; the reversal of worlds. The boat off to the left is the boat which in the religion of old ones carries the Sun on its celestial journeyâ€¦ ',\n",
       "       ' as he was always meant to beâ€¦ ',\n",
       "       ' they mock him and they torture him. Then they nail him to a stick and murder him. The mesmerized minions now kneel before the craven images of this obscene blasphemy singing â€œeat his body',\n",
       "       ' a student of Aristotle and the son of a Macedonian King and a high Priestess of the Dionysian mystery schools. Alexander was an initiate by birthright and conquered most of the known world in his insatiable quest to learn more. ',\n",
       "       ' they would pick up rocks to stone him and the rocks would turn to fire and consume them. ',\n",
       "       ' line upon line',\n",
       "       ' and child they could in the south of France. The Cathars',\n",
       "       ' which Theodosius thought he had expunged from history',\n",
       "       ' after being buried for almost two millennia.â€™ That is the story',\n",
       "       ' has resurrected as the Nag Hammadi Tracts and the Dead Sea Scrolls. ',\n",
       "       ' looked at them and said â€œdo unto to others as you would have others do unto youâ€\\x9d then walked out of the Temple followed by his entourageâ€¦ ',\n",
       "       ' King of the Crimean Scythians',\n",
       "       ' culminating with the Siege of Jerusalem in 70 CE. In viscous hand to hand combat between the various Jewish sects',\n",
       "       ' after all',\n",
       "       ' Fla. Biden stumps for Clinton in Dayton and Toledo',\n",
       "       ' as was allowed before 1842. â€˜I donâ€™t want to be naive and I donâ€™t want to be Don Quixote',\n",
       "       ' George W. Bush'], dtype=object)"
      ]
     },
     "execution_count": 38,
     "metadata": {},
     "output_type": "execute_result"
    }
   ],
   "source": [
    "df.label.unique()"
   ]
  },
  {
   "cell_type": "code",
   "execution_count": 39,
   "metadata": {},
   "outputs": [],
   "source": [
    "#selecting rows which have labels as REAL / FAKE only\n",
    "df = df[df['label'].isin(['REAL','FAKE'])]"
   ]
  },
  {
   "cell_type": "code",
   "execution_count": 40,
   "metadata": {},
   "outputs": [
    {
     "data": {
      "text/plain": [
       "(6314, 4)"
      ]
     },
     "execution_count": 40,
     "metadata": {},
     "output_type": "execute_result"
    }
   ],
   "source": [
    "df.shape"
   ]
  },
  {
   "cell_type": "code",
   "execution_count": 41,
   "metadata": {},
   "outputs": [
    {
     "data": {
      "text/plain": [
       "array(['FAKE', 'REAL'], dtype=object)"
      ]
     },
     "execution_count": 41,
     "metadata": {},
     "output_type": "execute_result"
    }
   ],
   "source": [
    "#All labels are now only REAL/FAKE\n",
    "df.label.unique()"
   ]
  },
  {
   "cell_type": "code",
   "execution_count": 42,
   "metadata": {},
   "outputs": [],
   "source": [
    "#Getting the labels\n",
    "labels = df.label"
   ]
  },
  {
   "cell_type": "code",
   "execution_count": 43,
   "metadata": {},
   "outputs": [],
   "source": [
    "#splitting the dataset into test and training data\n",
    "from sklearn.model_selection import train_test_split\n",
    "X_train,X_test,Y_train,Y_test = train_test_split(df['text'],labels,test_size=0.2,random_state=1)"
   ]
  },
  {
   "cell_type": "code",
   "execution_count": 44,
   "metadata": {},
   "outputs": [],
   "source": [
    "#Initializing a tfidfvectorizer with stop words from English Language and a max document frequency of 0.7\n",
    "#We will then fit and transform the vectorizer on the train set and transform the vectorizer on the test set\n",
    "from sklearn.feature_extraction.text import TfidfVectorizer"
   ]
  },
  {
   "cell_type": "code",
   "execution_count": 45,
   "metadata": {},
   "outputs": [],
   "source": [
    "tfidf_vectorizer = TfidfVectorizer(stop_words = 'english', max_df = 0.7)\n",
    "\n",
    "X_train = tfidf_vectorizer.fit_transform(X_train) \n",
    "X_test = tfidf_vectorizer.transform(X_test)"
   ]
  },
  {
   "cell_type": "code",
   "execution_count": 46,
   "metadata": {},
   "outputs": [
    {
     "data": {
      "text/plain": [
       "array(['FAKE', 'FAKE', 'FAKE', ..., 'FAKE', 'FAKE', 'REAL'], dtype='<U4')"
      ]
     },
     "execution_count": 46,
     "metadata": {},
     "output_type": "execute_result"
    }
   ],
   "source": [
    "#we’ll initialize a PassiveAggressiveClassifier. \n",
    "\n",
    "pac = PassiveAggressiveClassifier(max_iter=50)\n",
    "pac.fit(X_train,Y_train)\n",
    "\n",
    "Y_Pred = pac.predict(X_test)\n",
    "Y_Pred"
   ]
  },
  {
   "cell_type": "code",
   "execution_count": 47,
   "metadata": {
    "scrolled": true
   },
   "outputs": [
    {
     "name": "stdout",
     "output_type": "stream",
     "text": [
      "0.9501187648456056\n"
     ]
    }
   ],
   "source": [
    "accuracy = accuracy_score(Y_test,Y_Pred)\n",
    "print(accuracy)"
   ]
  },
  {
   "cell_type": "code",
   "execution_count": 48,
   "metadata": {},
   "outputs": [
    {
     "data": {
      "text/plain": [
       "array([[594,  25],\n",
       "       [ 38, 606]], dtype=int64)"
      ]
     },
     "execution_count": 48,
     "metadata": {},
     "output_type": "execute_result"
    }
   ],
   "source": [
    "#Plotting the confusionmatrix\n",
    "cm = confusion_matrix(Y_test,Y_Pred, labels=['FAKE','REAL'])\n",
    "cm"
   ]
  },
  {
   "cell_type": "code",
   "execution_count": 49,
   "metadata": {
    "scrolled": false
   },
   "outputs": [
    {
     "data": {
      "text/plain": [
       "<matplotlib.axes._subplots.AxesSubplot at 0x190653c0400>"
      ]
     },
     "execution_count": 49,
     "metadata": {},
     "output_type": "execute_result"
    },
    {
     "data": {
      "image/png": "[encoded data removed]",
      "text/plain": [
       "<Figure size 432x288 with 2 Axes>"
      ]
     },
     "metadata": {
      "needs_background": "light"
     },
     "output_type": "display_data"
    }
   ],
   "source": [
    "import seaborn as sns\n",
    "sns.heatmap(cm, annot=True, cmap = 'GnBu')"
   ]
  },
  {
   "cell_type": "code",
   "execution_count": 50,
   "metadata": {},
   "outputs": [
    {
     "name": "stdout",
     "output_type": "stream",
     "text": [
      "              precision    recall  f1-score   support\n",
      "\n",
      "        FAKE       0.94      0.96      0.95       619\n",
      "        REAL       0.96      0.94      0.95       644\n",
      "\n",
      "    accuracy                           0.95      1263\n",
      "   macro avg       0.95      0.95      0.95      1263\n",
      "weighted avg       0.95      0.95      0.95      1263\n",
      "\n"
     ]
    }
   ],
   "source": [
    "from sklearn.metrics import classification_report\n",
    "\n",
    "print(classification_report(Y_test, Y_Pred))"
   ]
  }
 ],
 "metadata": {
  "kernelspec": {
   "display_name": "Python 3",
   "language": "python",
   "name": "python3"
  },
  "language_info": {
   "codemirror_mode": {
    "name": "ipython",
    "version": 3
   },
   "file_extension": ".py",
   "mimetype": "text/x-python",
   "name": "python",
   "nbconvert_exporter": "python",
   "pygments_lexer": "ipython3",
   "version": "3.7.3"
  }
 },
 "nbformat": 4,
 "nbformat_minor": 4
}
